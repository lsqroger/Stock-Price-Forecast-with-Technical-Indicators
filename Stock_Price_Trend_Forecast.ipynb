{
 "cells": [
  {
   "cell_type": "code",
   "execution_count": 89,
   "id": "1e0c9c6b",
   "metadata": {},
   "outputs": [],
   "source": [
    "import pandas as pd\n",
    "import numpy as np\n",
    "import lightgbm as lgb\n",
    "import ta\n",
    "from ta import add_all_ta_features\n",
    "import yfinance as yf\n",
    "import datetime as dt\n",
    "from sklearn.model_selection import train_test_split, GridSearchCV\n",
    "from sklearn.metrics import accuracy_score, f1_score, roc_auc_score, roc_curve, auc, classification_report, confusion_matrix\n",
    "from skopt import BayesSearchCV\n",
    "import time\n",
    "import warnings\n",
    "import matplotlib.pyplot as plt"
   ]
  },
  {
   "cell_type": "code",
   "execution_count": 84,
   "id": "a7b0f6fc",
   "metadata": {},
   "outputs": [],
   "source": [
    "random_seed = 2021\n",
    "\n",
    "warnings.filterwarnings(\"ignore\")"
   ]
  },
  {
   "cell_type": "code",
   "execution_count": 67,
   "id": "3aae8a11",
   "metadata": {},
   "outputs": [
    {
     "data": {
      "text/html": [
       "<div>\n",
       "<style scoped>\n",
       "    .dataframe tbody tr th:only-of-type {\n",
       "        vertical-align: middle;\n",
       "    }\n",
       "\n",
       "    .dataframe tbody tr th {\n",
       "        vertical-align: top;\n",
       "    }\n",
       "\n",
       "    .dataframe thead th {\n",
       "        text-align: right;\n",
       "    }\n",
       "</style>\n",
       "<table border=\"1\" class=\"dataframe\">\n",
       "  <thead>\n",
       "    <tr style=\"text-align: right;\">\n",
       "      <th></th>\n",
       "      <th>Open</th>\n",
       "      <th>High</th>\n",
       "      <th>Low</th>\n",
       "      <th>Close</th>\n",
       "      <th>Volume</th>\n",
       "      <th>Dividends</th>\n",
       "      <th>Stock Splits</th>\n",
       "    </tr>\n",
       "    <tr>\n",
       "      <th>Date</th>\n",
       "      <th></th>\n",
       "      <th></th>\n",
       "      <th></th>\n",
       "      <th></th>\n",
       "      <th></th>\n",
       "      <th></th>\n",
       "      <th></th>\n",
       "    </tr>\n",
       "  </thead>\n",
       "  <tbody>\n",
       "    <tr>\n",
       "      <th>2021-09-03</th>\n",
       "      <td>300.989990</td>\n",
       "      <td>302.600006</td>\n",
       "      <td>300.260010</td>\n",
       "      <td>301.140015</td>\n",
       "      <td>14747900</td>\n",
       "      <td>0.0</td>\n",
       "      <td>0.0</td>\n",
       "    </tr>\n",
       "    <tr>\n",
       "      <th>2021-09-07</th>\n",
       "      <td>301.010010</td>\n",
       "      <td>301.089996</td>\n",
       "      <td>298.200012</td>\n",
       "      <td>300.179993</td>\n",
       "      <td>17180400</td>\n",
       "      <td>0.0</td>\n",
       "      <td>0.0</td>\n",
       "    </tr>\n",
       "    <tr>\n",
       "      <th>2021-09-08</th>\n",
       "      <td>299.779999</td>\n",
       "      <td>300.609985</td>\n",
       "      <td>297.470001</td>\n",
       "      <td>300.209991</td>\n",
       "      <td>15046800</td>\n",
       "      <td>0.0</td>\n",
       "      <td>0.0</td>\n",
       "    </tr>\n",
       "    <tr>\n",
       "      <th>2021-09-09</th>\n",
       "      <td>300.820007</td>\n",
       "      <td>302.140015</td>\n",
       "      <td>297.000000</td>\n",
       "      <td>297.250000</td>\n",
       "      <td>19927000</td>\n",
       "      <td>0.0</td>\n",
       "      <td>0.0</td>\n",
       "    </tr>\n",
       "    <tr>\n",
       "      <th>2021-09-10</th>\n",
       "      <td>298.420013</td>\n",
       "      <td>299.920013</td>\n",
       "      <td>295.380005</td>\n",
       "      <td>295.709991</td>\n",
       "      <td>19619400</td>\n",
       "      <td>0.0</td>\n",
       "      <td>0.0</td>\n",
       "    </tr>\n",
       "  </tbody>\n",
       "</table>\n",
       "</div>"
      ],
      "text/plain": [
       "                  Open        High         Low       Close    Volume  \\\n",
       "Date                                                                   \n",
       "2021-09-03  300.989990  302.600006  300.260010  301.140015  14747900   \n",
       "2021-09-07  301.010010  301.089996  298.200012  300.179993  17180400   \n",
       "2021-09-08  299.779999  300.609985  297.470001  300.209991  15046800   \n",
       "2021-09-09  300.820007  302.140015  297.000000  297.250000  19927000   \n",
       "2021-09-10  298.420013  299.920013  295.380005  295.709991  19619400   \n",
       "\n",
       "            Dividends  Stock Splits  \n",
       "Date                                 \n",
       "2021-09-03        0.0           0.0  \n",
       "2021-09-07        0.0           0.0  \n",
       "2021-09-08        0.0           0.0  \n",
       "2021-09-09        0.0           0.0  \n",
       "2021-09-10        0.0           0.0  "
      ]
     },
     "execution_count": 67,
     "metadata": {},
     "output_type": "execute_result"
    }
   ],
   "source": [
    "msft = yf.Ticker(\"MSFT\")\n",
    "\n",
    "history = msft.history(period='Max')\n",
    "meta_cols = history.columns\n",
    "history.tail()"
   ]
  },
  {
   "cell_type": "code",
   "execution_count": 68,
   "id": "b3d4c3e2",
   "metadata": {},
   "outputs": [
    {
     "name": "stderr",
     "output_type": "stream",
     "text": [
      "C:\\Users\\LSQ\\anaconda3\\lib\\site-packages\\ta\\trend.py:768: RuntimeWarning: invalid value encountered in double_scalars\n",
      "  dip[i] = 100 * (self._dip[i] / self._trs[i])\n",
      "C:\\Users\\LSQ\\anaconda3\\lib\\site-packages\\ta\\trend.py:772: RuntimeWarning: invalid value encountered in double_scalars\n",
      "  din[i] = 100 * (self._din[i] / self._trs[i])\n"
     ]
    }
   ],
   "source": [
    "ta_df = add_all_ta_features(df=history, open='Open', high='High', low='Low',close='Close',volume='Volume', fillna=True)"
   ]
  },
  {
   "cell_type": "code",
   "execution_count": 69,
   "id": "4aaccbb4",
   "metadata": {},
   "outputs": [
    {
     "data": {
      "text/plain": [
       "Index(['Open', 'High', 'Low', 'Close', 'Volume', 'Dividends', 'Stock Splits',\n",
       "       'volume_adi', 'volume_obv', 'volume_cmf', 'volume_fi', 'volume_mfi',\n",
       "       'volume_em', 'volume_sma_em', 'volume_vpt', 'volume_nvi', 'volume_vwap',\n",
       "       'volatility_atr', 'volatility_bbm', 'volatility_bbh', 'volatility_bbl',\n",
       "       'volatility_bbw', 'volatility_bbp', 'volatility_bbhi',\n",
       "       'volatility_bbli', 'volatility_kcc', 'volatility_kch', 'volatility_kcl',\n",
       "       'volatility_kcw', 'volatility_kcp', 'volatility_kchi',\n",
       "       'volatility_kcli', 'volatility_dcl', 'volatility_dch', 'volatility_dcm',\n",
       "       'volatility_dcw', 'volatility_dcp', 'volatility_ui', 'trend_macd',\n",
       "       'trend_macd_signal', 'trend_macd_diff', 'trend_sma_fast',\n",
       "       'trend_sma_slow', 'trend_ema_fast', 'trend_ema_slow', 'trend_adx',\n",
       "       'trend_adx_pos', 'trend_adx_neg', 'trend_vortex_ind_pos',\n",
       "       'trend_vortex_ind_neg', 'trend_vortex_ind_diff', 'trend_trix',\n",
       "       'trend_mass_index', 'trend_cci', 'trend_dpo', 'trend_kst',\n",
       "       'trend_kst_sig', 'trend_kst_diff', 'trend_ichimoku_conv',\n",
       "       'trend_ichimoku_base', 'trend_ichimoku_a', 'trend_ichimoku_b',\n",
       "       'trend_visual_ichimoku_a', 'trend_visual_ichimoku_b', 'trend_aroon_up',\n",
       "       'trend_aroon_down', 'trend_aroon_ind', 'trend_psar_up',\n",
       "       'trend_psar_down', 'trend_psar_up_indicator',\n",
       "       'trend_psar_down_indicator', 'trend_stc', 'momentum_rsi',\n",
       "       'momentum_stoch_rsi', 'momentum_stoch_rsi_k', 'momentum_stoch_rsi_d',\n",
       "       'momentum_tsi', 'momentum_uo', 'momentum_stoch',\n",
       "       'momentum_stoch_signal', 'momentum_wr', 'momentum_ao', 'momentum_kama',\n",
       "       'momentum_roc', 'momentum_ppo', 'momentum_ppo_signal',\n",
       "       'momentum_ppo_hist', 'others_dr', 'others_dlr', 'others_cr'],\n",
       "      dtype='object')"
      ]
     },
     "execution_count": 69,
     "metadata": {},
     "output_type": "execute_result"
    }
   ],
   "source": [
    "ta_df.columns"
   ]
  },
  {
   "cell_type": "code",
   "execution_count": 70,
   "id": "09c62fd2",
   "metadata": {},
   "outputs": [],
   "source": [
    "feature_cols = [x for x in ta_df.columns if x not in meta_cols]"
   ]
  },
  {
   "cell_type": "code",
   "execution_count": 71,
   "id": "973bef29",
   "metadata": {},
   "outputs": [],
   "source": [
    "toSelect = True\n",
    "lag_length = 7\n",
    "history_win = 2\n",
    "forecast_date = \"2021-09-03\""
   ]
  },
  {
   "cell_type": "markdown",
   "id": "1e5972b0",
   "metadata": {},
   "source": [
    "## 1. Data Preparation"
   ]
  },
  {
   "cell_type": "code",
   "execution_count": 72,
   "id": "6c2b628f",
   "metadata": {},
   "outputs": [],
   "source": [
    "### create lagged dataset\n",
    "df_lagged = ta_df.copy()\n",
    "df_lagged[feature_cols] = df_lagged[feature_cols].apply(lambda x: x.shift(lag_length))\n",
    "df_lagged['Close_prev'] = df_lagged['Close'].shift(lag_length)"
   ]
  },
  {
   "cell_type": "code",
   "execution_count": 73,
   "id": "335402f5",
   "metadata": {},
   "outputs": [
    {
     "name": "stdout",
     "output_type": "stream",
     "text": [
      "number of NA records is 0\n"
     ]
    }
   ],
   "source": [
    "### Include only data in the specified time window\n",
    "start_date = pd.to_datetime(forecast_date)-pd.DateOffset(years=history_win)\n",
    "start_date = start_date.strftime(\"%Y-%m-%d\")\n",
    "\n",
    "df_lagged.reset_index(drop=False, inplace=True)\n",
    "df_lagged = df_lagged.loc[(df_lagged.Date >= start_date)&(df_lagged.Date <= forecast_date)]\n",
    "temp_rows = df_lagged.shape[0]\n",
    "df_lagged.dropna(axis=0, inplace=True)\n",
    "print(f\"number of NA records is {temp_rows - df_lagged.shape[0]}\")"
   ]
  },
  {
   "cell_type": "code",
   "execution_count": 74,
   "id": "b1151149",
   "metadata": {},
   "outputs": [],
   "source": [
    "### Create target class labels\n",
    "df_lagged['label'] = np.where(df_lagged['Close'] > df_lagged['Close_prev'], 1,0)   # 1 = Price increase, 0 = Price decrease\n",
    "\n",
    "### Separate test data\n",
    "test_data = df_lagged.loc[df_lagged.Date == forecast_date]"
   ]
  },
  {
   "cell_type": "markdown",
   "id": "e9aa0bc0",
   "metadata": {},
   "source": [
    "## 2. Modelling"
   ]
  },
  {
   "cell_type": "code",
   "execution_count": 75,
   "id": "ff2f59eb",
   "metadata": {},
   "outputs": [
    {
     "name": "stdout",
     "output_type": "stream",
     "text": [
      "(405, 83) (102, 83)\n"
     ]
    }
   ],
   "source": [
    "### Split train validation/test set\n",
    "X_train, X_test, y_train, y_test = train_test_split(df_lagged[feature_cols], df_lagged['label'], test_size=0.2, \n",
    "                                                    stratify=df_lagged['label'], random_state=random_seed)\n",
    "\n",
    "print(X_train.shape, X_test.shape)"
   ]
  },
  {
   "cell_type": "markdown",
   "id": "cebf33c3",
   "metadata": {},
   "source": [
    "#### Feature Selection (optional)"
   ]
  },
  {
   "cell_type": "code",
   "execution_count": 78,
   "id": "6e45af4c",
   "metadata": {},
   "outputs": [
    {
     "name": "stdout",
     "output_type": "stream",
     "text": [
      "Without feature selection: validation AUC is 0.8840085287846482 and accuracy is 0.803921568627451\n",
      "Number of features selected is 69 with validation AUC: 0.9010660980810234 and accuracy: 0.803921568627451\n",
      "Feature selection duration: 0.09 mins\n"
     ]
    }
   ],
   "source": [
    "### Feature selection if needed\n",
    "\n",
    "\n",
    "### Simple training\n",
    "model_lgb = lgb.LGBMClassifier(random_state=random_seed, n_jobs=-1)\n",
    "model_lgb.fit(X_train, y_train)\n",
    "test_preds = model_lgb.predict(X_test)\n",
    "test_proba = model_lgb.predict_proba(X_test)[:, 1]\n",
    "test_auc = roc_auc_score(y_test, test_proba)\n",
    "test_accuracy = accuracy_score(y_test, test_preds)\n",
    "print(f\"Without feature selection: validation AUC is {test_auc} and accuracy is {test_accuracy}\")\n",
    "\n",
    "if toSelect:    \n",
    "    df_features_impt = pd.DataFrame({\"feature\":feature_cols,\n",
    "                                     \"scores\":model_lgb.feature_importances_}).sort_values(\"scores\", ascending=False)\n",
    "    \n",
    "    best_auc = 0\n",
    "    best_accuracy = 0\n",
    "    best_features = None\n",
    "    start_time = time.time()\n",
    "    for ittr in range(len(df_features_impt.feature)):\n",
    "        current_set = df_features_impt.feature[:ittr+1]\n",
    "        model_lgb = lgb.LGBMClassifier(random_state=random_seed, n_jobs=-1)\n",
    "        model_lgb.fit(X_train[current_set], y_train)\n",
    "        test_preds = model_lgb.predict(X_test[current_set])\n",
    "        test_proba = model_lgb.predict_proba(X_test[current_set])[:, 1]\n",
    "        test_auc = roc_auc_score(y_test, test_proba)\n",
    "        test_accuracy = accuracy_score(y_test, test_preds)\n",
    "        if test_auc > best_auc and (test_auc-best_auc) > 0.001:\n",
    "            best_auc = test_auc\n",
    "            best_accuracy = test_accuracy\n",
    "            best_features = current_set.copy()\n",
    "\n",
    "    print(f\"Number of features selected is {len(best_features)} with validation AUC: {best_auc} and accuracy: {best_accuracy}\")\n",
    "    feature_cols = best_features\n",
    "    end_time = time.time()\n",
    "    dur = round((end_time-start_time)/60,2)\n",
    "    print(f\"Feature selection duration: {dur} mins\")"
   ]
  },
  {
   "cell_type": "markdown",
   "id": "6d10e7af",
   "metadata": {},
   "source": [
    "#### Hyperparameter Tuning"
   ]
  },
  {
   "cell_type": "code",
   "execution_count": 80,
   "id": "5822e960",
   "metadata": {},
   "outputs": [
    {
     "data": {
      "text/plain": [
       "45       trend_mass_index\n",
       "40          trend_adx_neg\n",
       "38              trend_adx\n",
       "47              trend_dpo\n",
       "32      trend_macd_signal\n",
       "             ...         \n",
       "59        trend_aroon_ind\n",
       "11         volatility_bbm\n",
       "35         trend_sma_slow\n",
       "36         trend_ema_fast\n",
       "51    trend_ichimoku_conv\n",
       "Name: feature, Length: 69, dtype: object"
      ]
     },
     "execution_count": 80,
     "metadata": {},
     "output_type": "execute_result"
    }
   ],
   "source": [
    "feature_cols"
   ]
  },
  {
   "cell_type": "code",
   "execution_count": 97,
   "id": "9c91a6e0",
   "metadata": {},
   "outputs": [],
   "source": [
    "params_grid = {\n",
    "    \"learning_rate\": (0.01, 0.3),\n",
    "    \"n_estimators\": (50, 500),\n",
    "    \"max_depth\": (2, 7),\n",
    "    \"subsample\": (0.8, 1),\n",
    "    \"feature_fraction\": (0.8, 1),\n",
    "    \"lambda_l1\": (0, 1),\n",
    "    \"lambda_l2\": (0, 1) \n",
    "}"
   ]
  },
  {
   "cell_type": "code",
   "execution_count": 82,
   "id": "485ea54a",
   "metadata": {},
   "outputs": [
    {
     "name": "stdout",
     "output_type": "stream",
     "text": [
      "[LightGBM] [Warning] feature_fraction is set=0.9741585456708786, colsample_bytree=1.0 will be ignored. Current value: feature_fraction=0.9741585456708786\n",
      "[LightGBM] [Warning] lambda_l1 is set=0, reg_alpha=0.0 will be ignored. Current value: lambda_l1=0\n",
      "[LightGBM] [Warning] lambda_l2 is set=0, reg_lambda=0.0 will be ignored. Current value: lambda_l2=0\n",
      "Hyperparamter Tuning time: 1.89 mins\n"
     ]
    }
   ],
   "source": [
    "model_lgb = lgb.LGBMClassifier(random_state=random_seed, n_jobs=-1)\n",
    "\n",
    "start_time = time.time()\n",
    "bayes_gs = BayesSearchCV(model_lgb, params_grid, scoring='roc_auc', cv=5, n_iter=50, n_jobs=-1, random_state=random_seed)\n",
    "bayes_gs.fit(X_train[feature_cols], y_train)\n",
    "end_time = time.time()\n",
    "print(f\"Hyperparamter Tuning time: {round((end_time-start_time)/60, 2)} mins\")\n",
    "\n",
    "best_estimator = bayes_gs.best_estimator_\n",
    "best_params = bayes_gs.best_params_"
   ]
  },
  {
   "cell_type": "code",
   "execution_count": 85,
   "id": "5bf44931",
   "metadata": {},
   "outputs": [
    {
     "name": "stdout",
     "output_type": "stream",
     "text": [
      "              precision    recall  f1-score   support\n",
      "\n",
      "           0       0.73      0.69      0.71        35\n",
      "           1       0.84      0.87      0.85        67\n",
      "\n",
      "    accuracy                           0.80       102\n",
      "   macro avg       0.78      0.78      0.78       102\n",
      "weighted avg       0.80      0.80      0.80       102\n",
      "\n"
     ]
    }
   ],
   "source": [
    "validation_preds = best_estimator.predict(X_test[feature_cols])\n",
    "validation_proba = best_estimator.predict_proba(X_test[feature_cols])\n",
    "\n",
    "print(classification_report(y_test,validation_preds))"
   ]
  },
  {
   "cell_type": "code",
   "execution_count": 106,
   "id": "3974c7ba",
   "metadata": {},
   "outputs": [],
   "source": [
    "cm = confusion_matrix(y_test,validation_preds)"
   ]
  },
  {
   "cell_type": "code",
   "execution_count": 108,
   "id": "48abad42",
   "metadata": {},
   "outputs": [
    {
     "data": {
      "text/plain": [
       "array([[24, 11],\n",
       "       [ 9, 58]], dtype=int64)"
      ]
     },
     "execution_count": 108,
     "metadata": {},
     "output_type": "execute_result"
    }
   ],
   "source": [
    "cm"
   ]
  },
  {
   "cell_type": "code",
   "execution_count": 110,
   "id": "a469580c",
   "metadata": {},
   "outputs": [
    {
     "data": {
      "image/png": "[encoded data removed]",
      "text/plain": [
       "<Figure size 432x288 with 2 Axes>"
      ]
     },
     "metadata": {
      "needs_background": "light"
     },
     "output_type": "display_data"
    }
   ],
   "source": [
    "import seaborn as sns  \n",
    "\n",
    "ax= plt.subplot()\n",
    "sns.heatmap(cm, annot=True, fmt='g', ax=ax);  #annot=True to annotate cells, ftm='g' to disable scientific notation\n",
    "\n",
    "# labels, title and ticks\n",
    "ax.set_xlabel('Predicted labels');ax.set_ylabel('True labels'); \n",
    "ax.set_title('Confusion Matrix'); \n",
    "ax.xaxis.set_ticklabels(['0-Down', '1-Up']); ax.yaxis.set_ticklabels(['0-Down', '1-Up']);"
   ]
  },
  {
   "cell_type": "code",
   "execution_count": null,
   "id": "0bda1d01",
   "metadata": {},
   "outputs": [],
   "source": []
  },
  {
   "cell_type": "code",
   "execution_count": 93,
   "id": "c61a9deb",
   "metadata": {},
   "outputs": [
    {
     "data": {
      "image/png": "[encoded data removed]",
      "text/plain": [
       "<Figure size 864x576 with 1 Axes>"
      ]
     },
     "metadata": {
      "needs_background": "light"
     },
     "output_type": "display_data"
    },
    {
     "name": "stdout",
     "output_type": "stream",
     "text": [
      "AUC score is 0.90235\n"
     ]
    }
   ],
   "source": [
    "fpr, tpr, threshold = roc_curve(y_test, validation_proba[:, 1])\n",
    "roc_auc = auc(fpr, tpr)\n",
    "\n",
    "plt.figure(figsize=(12, 8))\n",
    "plt.title('Receiver Operating Characteristic')\n",
    "plt.plot(fpr, tpr, 'b', label = 'AUC = %0.2f' % roc_auc)\n",
    "plt.legend(loc = 'lower right')\n",
    "plt.plot([0, 1], [0, 1],'r--')\n",
    "plt.xlim([0, 1])\n",
    "plt.ylim([0, 1])\n",
    "plt.ylabel('True Positive Rate')\n",
    "plt.xlabel('False Positive Rate')\n",
    "plt.show()\n",
    "\n",
    "print(f\"AUC score is {round(roc_auc_score(y_test, validation_proba[:, 1]), 5)}\")"
   ]
  },
  {
   "cell_type": "code",
   "execution_count": 98,
   "id": "0db98c8b",
   "metadata": {},
   "outputs": [
    {
     "data": {
      "text/plain": [
       "LGBMClassifier(feature_fraction=0.9741585456708786, lambda_l1=0, lambda_l2=0,\n",
       "               learning_rate=0.3, max_depth=7, n_estimators=500,\n",
       "               random_state=2021)"
      ]
     },
     "execution_count": 98,
     "metadata": {},
     "output_type": "execute_result"
    }
   ],
   "source": [
    "### re-fit to traing and validation data combined\n",
    "X_train_val = pd.concat([X_train[feature_cols], X_test[feature_cols]], axis=0)\n",
    "y_train_val = pd.concat([y_train, y_test], axis=0)\n",
    "\n",
    "final_model = best_estimator\n",
    "final_model.fit(X_train_val, y_train_val)"
   ]
  },
  {
   "cell_type": "markdown",
   "id": "1770f812",
   "metadata": {},
   "source": [
    "## 3. Prediction"
   ]
  },
  {
   "cell_type": "code",
   "execution_count": 102,
   "id": "abd4bde5",
   "metadata": {},
   "outputs": [
    {
     "name": "stdout",
     "output_type": "stream",
     "text": [
      "True test label is 0 and model prediction is 0\n"
     ]
    }
   ],
   "source": [
    "oos_pred = final_model.predict(test_data[feature_cols])\n",
    "print(f\"True test label is {test_data.label.values[0]} and model prediction is {oos_pred[0]}\")"
   ]
  },
  {
   "cell_type": "code",
   "execution_count": null,
   "id": "f1e2837d",
   "metadata": {},
   "outputs": [],
   "source": []
  }
 ],
 "metadata": {
  "kernelspec": {
   "display_name": "Python 3",
   "language": "python",
   "name": "python3"
  },
  "language_info": {
   "codemirror_mode": {
    "name": "ipython",
    "version": 3
   },
   "file_extension": ".py",
   "mimetype": "text/x-python",
   "name": "python",
   "nbconvert_exporter": "python",
   "pygments_lexer": "ipython3",
   "version": "3.8.8"
  }
 },
 "nbformat": 4,
 "nbformat_minor": 5
}
